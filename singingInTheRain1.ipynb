{
 "cells": [
  {
   "cell_type": "markdown",
   "metadata": {},
   "source": [
    "#  singingInTheRain: A Jupyter Notebook taking the first steps looking at correlations between music and emotions through difficult times. "
   ]
  },
  {
   "cell_type": "markdown",
   "metadata": {},
   "source": [
    "Two different data sets are used here, both in json formats.  \n",
    "\n",
    "1. The first is a compilation of songs listened by users and has been uploaded to \"ListenBrainz\" found at https://listenbrainz.org/data\n",
    "2. The second provides attributes to these songs such as mood, tempo and scale(note the high-level data set        was used here) : https://acousticbrainz.org/download"
   ]
  },
  {
   "cell_type": "markdown",
   "metadata": {},
   "source": [
    "## A.1) We begin by looking at the time series data for one user. This spans 2017-06-21 to 2019-07-05. "
   ]
  },
  {
   "cell_type": "code",
   "execution_count": 623,
   "metadata": {},
   "outputs": [],
   "source": [
    "import json\n",
    "import os\n",
    "import pandas as pd\n",
    "\n",
    "username='flyingshine';\n",
    "userdata=pd.DataFrame(columns=['artist_name','track_name','listened_at', 'recording_mbid', 'user_name'])\n",
    "def read_user_listens(username):\n",
    "    with open('index.json') as f:\n",
    "        index = json.load(f)\n",
    "        file_name = index[username]['file_name']\n",
    "        offset = index[username]['offset']\n",
    "        size = index[username]['size']\n",
    "\n",
    "        \n",
    "        file_path = os.path.join('listens', file_name[0], file_name[0:2], '%s.listens' % file_name)\n",
    "        with open(file_path) as listen_file:\n",
    "            listen_file.seek(offset)\n",
    "            listens = listen_file.read(size)\n",
    "            return map(json.loads, listens.split('\\n'))\n",
    "\n",
    "for listen in read_user_listens(username):\n",
    "         userdata = userdata.append({'artist_name':listen['track_metadata']['artist_name'],'track_name':listen['track_metadata']['track_name'],'listened_at':listen['listened_at'],'recording_mbid':listen['track_metadata']['additional_info']['recording_mbid'], 'user_name':username},ignore_index=True)\n",
    "userdata['listened_at'] = pd.to_datetime(userdata['listened_at'], unit='s')        "
   ]
  },
  {
   "cell_type": "code",
   "execution_count": 624,
   "metadata": {},
   "outputs": [
    {
     "data": {
      "text/html": [
       "<div>\n",
       "<style scoped>\n",
       "    .dataframe tbody tr th:only-of-type {\n",
       "        vertical-align: middle;\n",
       "    }\n",
       "\n",
       "    .dataframe tbody tr th {\n",
       "        vertical-align: top;\n",
       "    }\n",
       "\n",
       "    .dataframe thead th {\n",
       "        text-align: right;\n",
       "    }\n",
       "</style>\n",
       "<table border=\"1\" class=\"dataframe\">\n",
       "  <thead>\n",
       "    <tr style=\"text-align: right;\">\n",
       "      <th></th>\n",
       "      <th>artist_name</th>\n",
       "      <th>track_name</th>\n",
       "      <th>listened_at</th>\n",
       "      <th>recording_mbid</th>\n",
       "      <th>user_name</th>\n",
       "    </tr>\n",
       "  </thead>\n",
       "  <tbody>\n",
       "    <tr>\n",
       "      <th>201</th>\n",
       "      <td>Propellerheads</td>\n",
       "      <td>On Her Majesty's Secret Service</td>\n",
       "      <td>2017-11-13 09:55:13</td>\n",
       "      <td>566c6508-6107-442c-8e28-8017f2486b32</td>\n",
       "      <td>flyingshine</td>\n",
       "    </tr>\n",
       "    <tr>\n",
       "      <th>202</th>\n",
       "      <td>Boom Boom Satellites</td>\n",
       "      <td>On The Painted Desert</td>\n",
       "      <td>2017-11-13 09:46:38</td>\n",
       "      <td>832c5e70-2817-4b82-9310-559275f993fc</td>\n",
       "      <td>flyingshine</td>\n",
       "    </tr>\n",
       "    <tr>\n",
       "      <th>203</th>\n",
       "      <td>Boom Boom Satellites</td>\n",
       "      <td>Oneness</td>\n",
       "      <td>2017-11-13 09:44:02</td>\n",
       "      <td>da44aed4-35e6-44f8-b911-841da64da103</td>\n",
       "      <td>flyingshine</td>\n",
       "    </tr>\n",
       "    <tr>\n",
       "      <th>204</th>\n",
       "      <td>Boom Boom Satellites</td>\n",
       "      <td>Limbo</td>\n",
       "      <td>2017-11-13 09:36:31</td>\n",
       "      <td>3df063b6-0135-420e-b646-f0976a44776a</td>\n",
       "      <td>flyingshine</td>\n",
       "    </tr>\n",
       "    <tr>\n",
       "      <th>205</th>\n",
       "      <td>Boom Boom Satellites</td>\n",
       "      <td>4 A Moment of Silence</td>\n",
       "      <td>2017-11-13 09:29:49</td>\n",
       "      <td>a1c31342-63cd-4674-983f-892f3f7c446e</td>\n",
       "      <td>flyingshine</td>\n",
       "    </tr>\n",
       "    <tr>\n",
       "      <th>...</th>\n",
       "      <td>...</td>\n",
       "      <td>...</td>\n",
       "      <td>...</td>\n",
       "      <td>...</td>\n",
       "      <td>...</td>\n",
       "    </tr>\n",
       "    <tr>\n",
       "      <th>10862</th>\n",
       "      <td>chibi-tech</td>\n",
       "      <td>Moe Moe Kyunstep (PART II - キュン -)</td>\n",
       "      <td>2016-01-18 10:05:08</td>\n",
       "      <td>34852584-1be5-4aa2-a8c3-23dbec86ecb9</td>\n",
       "      <td>flyingshine</td>\n",
       "    </tr>\n",
       "    <tr>\n",
       "      <th>10864</th>\n",
       "      <td>Honeycut</td>\n",
       "      <td>Dark Days, White Lines</td>\n",
       "      <td>2016-01-18 09:58:56</td>\n",
       "      <td>b1e83caa-7240-48fe-984a-da457f8262ad</td>\n",
       "      <td>flyingshine</td>\n",
       "    </tr>\n",
       "    <tr>\n",
       "      <th>10865</th>\n",
       "      <td>She</td>\n",
       "      <td>day 6</td>\n",
       "      <td>2016-01-18 09:57:13</td>\n",
       "      <td>88b29d81-6ef8-44f7-9514-cc0d34107531</td>\n",
       "      <td>flyingshine</td>\n",
       "    </tr>\n",
       "    <tr>\n",
       "      <th>10870</th>\n",
       "      <td>Honeycut</td>\n",
       "      <td>Tough Kid</td>\n",
       "      <td>2016-01-18 09:16:14</td>\n",
       "      <td>d279672d-dd20-4b5d-a2da-67d80418d127</td>\n",
       "      <td>flyingshine</td>\n",
       "    </tr>\n",
       "    <tr>\n",
       "      <th>10871</th>\n",
       "      <td>Honeycut</td>\n",
       "      <td>The Day I Turned To Glass</td>\n",
       "      <td>2016-01-18 06:03:59</td>\n",
       "      <td>7ba4baaa-83cd-434d-a5d3-ca4663cad150</td>\n",
       "      <td>flyingshine</td>\n",
       "    </tr>\n",
       "  </tbody>\n",
       "</table>\n",
       "<p>3989 rows × 5 columns</p>\n",
       "</div>"
      ],
      "text/plain": [
       "                artist_name                          track_name  \\\n",
       "201          Propellerheads     On Her Majesty's Secret Service   \n",
       "202    Boom Boom Satellites               On The Painted Desert   \n",
       "203    Boom Boom Satellites                             Oneness   \n",
       "204    Boom Boom Satellites                               Limbo   \n",
       "205    Boom Boom Satellites               4 A Moment of Silence   \n",
       "...                     ...                                 ...   \n",
       "10862            chibi-tech  Moe Moe Kyunstep (PART II - キュン -)   \n",
       "10864              Honeycut              Dark Days, White Lines   \n",
       "10865                   She                               day 6   \n",
       "10870              Honeycut                           Tough Kid   \n",
       "10871              Honeycut           The Day I Turned To Glass   \n",
       "\n",
       "              listened_at                        recording_mbid    user_name  \n",
       "201   2017-11-13 09:55:13  566c6508-6107-442c-8e28-8017f2486b32  flyingshine  \n",
       "202   2017-11-13 09:46:38  832c5e70-2817-4b82-9310-559275f993fc  flyingshine  \n",
       "203   2017-11-13 09:44:02  da44aed4-35e6-44f8-b911-841da64da103  flyingshine  \n",
       "204   2017-11-13 09:36:31  3df063b6-0135-420e-b646-f0976a44776a  flyingshine  \n",
       "205   2017-11-13 09:29:49  a1c31342-63cd-4674-983f-892f3f7c446e  flyingshine  \n",
       "...                   ...                                   ...          ...  \n",
       "10862 2016-01-18 10:05:08  34852584-1be5-4aa2-a8c3-23dbec86ecb9  flyingshine  \n",
       "10864 2016-01-18 09:58:56  b1e83caa-7240-48fe-984a-da457f8262ad  flyingshine  \n",
       "10865 2016-01-18 09:57:13  88b29d81-6ef8-44f7-9514-cc0d34107531  flyingshine  \n",
       "10870 2016-01-18 09:16:14  d279672d-dd20-4b5d-a2da-67d80418d127  flyingshine  \n",
       "10871 2016-01-18 06:03:59  7ba4baaa-83cd-434d-a5d3-ca4663cad150  flyingshine  \n",
       "\n",
       "[3989 rows x 5 columns]"
      ]
     },
     "execution_count": 624,
     "metadata": {},
     "output_type": "execute_result"
    }
   ],
   "source": [
    "userdataWithSongID=userdata.dropna(subset=['recording_mbid'])\n",
    "userdataWithSongID"
   ]
  },
  {
   "cell_type": "markdown",
   "metadata": {},
   "source": [
    "## A.2 Next we assign attributes to these songs basd on their identifyer \"recording_msid\" as found catagorized by \"AcousticBrainz\" (https://acousticbrainz.org/download). "
   ]
  },
  {
   "cell_type": "code",
   "execution_count": 625,
   "metadata": {},
   "outputs": [],
   "source": [
    "import numpy as np\n",
    "import matplotlib as plt\n"
    "musData=pd.DataFrame(columns=['mood_happy','danceability'])\n",
    "for each in userdataWithSongID.index:\n",
    "    file_musdat=userdataWithSongID['recording_mbid'][each]\n",
    "    file_pathB= os.path.join('highlevel', file_musdat[0], file_musdat[0:2], file_musdat+ '-0.json')\n",
    "    if os.path.isfile(file_pathB):\n",
    "        with open(file_pathB) as mus:\n",
    "            data=json.load(mus)\n",
    "            musData=musData.append({'mood_happy':data['highlevel']['mood_happy']['value'],'danceability':data['highlevel']['danceability']['value']},ignore_index=True)\n",
    "    else:\n",
    "            musData=musData.append({'mood_happy':np.nan,'danceability':np.nan},ignore_index=True)\n",
    "\n",
    "mergedData=pd.concat([userdataWithSongID,musData],axis=1).dropna()        "
   ]
  },
  {
   "cell_type": "code",
   "execution_count": 626,
   "metadata": {},
   "outputs": [],
   "source": [
    "mergedData['Dates'] = pd.to_datetime(mergedData['listened_at']).dt.date\n",
    "mergedData['Time'] = pd.to_datetime(mergedData['listened_at']).dt.time"
   ]
  },
  {
   "cell_type": "code",
   "execution_count": 627,
   "metadata": {},
   "outputs": [],
   "source": [
    "mergedData1=mergedData.replace(to_replace='not_happy',value=0)\n",
    "mergeData2=mergedData1.replace(to_replace='happy',value=1)"
   ]
  },
  {
   "cell_type": "code",
   "execution_count": 666,
   "metadata": {},
   "outputs": [
    {
     "data": {
      "image/png": "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\n",
      "text/plain": [
       "<Figure size 792x576 with 1 Axes>"
      ]
     },
     "metadata": {
      "needs_background": "light"
     },
     "output_type": "display_data"
    }
   ],
   "source": [
    "ma=mergeData2.groupby('Dates').sum()\n",
    "mb=mergeData2.groupby('Dates').artist_name.count()\n",
    "full=pd.concat([ma,mb],axis=1)\n",
    "ratios=full['mood_happy']/full['artist_name']\n",
    "plt.figure(figsize=(11,8))\n",
    "plt.ylim(0,1.3)\n",
    "plt.scatter(ratios.index,ratios,marker='o')\n",
    "plt.xlabel(\"Date\",size=18)\n",
    "plt.ylabel('ratio of happy songs to all songs played',size=16)\n",
    "plt.grid(True)\n",
    "plt.show()"
   ]
  },
  {
   "cell_type": "markdown",
   "metadata": {},
   "source": [
    "\n",
    "## There appear to be two \"happier\" peaks in peaks in the fraction of happy songs played by the user \"flyingshine\" in the duration for which the sampled data was plotted. \n",
    "\n",
    "## Some Caveats:\n",
    "## 1. The data needs some cleaning. \n",
    "## 2. At present the sample size might not be large enough to deduce useful.\n",
    "\n",
    "## 2. The file containing more details on the attributes of the song could not be obtained in the time frame, and might lend more interesting results. "
   ]
  },
  {
   "cell_type": "code",
   "execution_count": null,
   "metadata": {},
   "outputs": [],
   "source": []
  }
 ],
 "metadata": {
  "kernelspec": {
   "display_name": "Python 3",
   "language": "python",
   "name": "python3"
  },
  "language_info": {
   "codemirror_mode": {
    "name": "ipython",
    "version": 3
   },
   "file_extension": ".py",
   "mimetype": "text/x-python",
   "name": "python",
   "nbconvert_exporter": "python",
   "pygments_lexer": "ipython3",
   "version": "3.7.6"
  }
 },
 "nbformat": 4,
 "nbformat_minor": 4
}
